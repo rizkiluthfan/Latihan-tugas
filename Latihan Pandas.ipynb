{
 "cells": [
  {
   "cell_type": "code",
   "execution_count": 1,
   "metadata": {},
   "outputs": [],
   "source": [
    "import numpy as np\n",
    "import pandas as pd\n",
    "import string"
   ]
  },
  {
   "cell_type": "markdown",
   "metadata": {},
   "source": [
    "## Soal 1"
   ]
  },
  {
   "cell_type": "code",
   "execution_count": 2,
   "metadata": {},
   "outputs": [],
   "source": [
    "ser = pd.Series(data = np.arange(26), index = list(string.ascii_lowercase))"
   ]
  },
  {
   "cell_type": "code",
   "execution_count": 3,
   "metadata": {},
   "outputs": [
    {
     "data": {
      "text/plain": [
       "a     0\n",
       "b     1\n",
       "c     2\n",
       "d     3\n",
       "e     4\n",
       "f     5\n",
       "g     6\n",
       "h     7\n",
       "i     8\n",
       "j     9\n",
       "k    10\n",
       "l    11\n",
       "m    12\n",
       "n    13\n",
       "o    14\n",
       "p    15\n",
       "q    16\n",
       "r    17\n",
       "s    18\n",
       "t    19\n",
       "u    20\n",
       "v    21\n",
       "w    22\n",
       "x    23\n",
       "y    24\n",
       "z    25\n",
       "dtype: int32"
      ]
     },
     "execution_count": 3,
     "metadata": {},
     "output_type": "execute_result"
    }
   ],
   "source": [
    "ser"
   ]
  },
  {
   "cell_type": "markdown",
   "metadata": {},
   "source": [
    "## Soal 2"
   ]
  },
  {
   "cell_type": "code",
   "execution_count": 4,
   "metadata": {},
   "outputs": [],
   "source": [
    "d1 = {'a': 100, 'b': 200, 'c':300, 'd':400, 'e':800}"
   ]
  },
  {
   "cell_type": "code",
   "execution_count": 5,
   "metadata": {},
   "outputs": [
    {
     "data": {
      "text/plain": [
       "a    100\n",
       "b    200\n",
       "c    300\n",
       "d    400\n",
       "e    800\n",
       "dtype: int64"
      ]
     },
     "execution_count": 5,
     "metadata": {},
     "output_type": "execute_result"
    }
   ],
   "source": [
    "pd.Series(d1)"
   ]
  },
  {
   "cell_type": "markdown",
   "metadata": {},
   "source": [
    "## Soal 3"
   ]
  },
  {
   "cell_type": "code",
   "execution_count": 6,
   "metadata": {},
   "outputs": [
    {
     "data": {
      "text/plain": [
       "0     4\n",
       "1     4\n",
       "2     2\n",
       "3     3\n",
       "4     4\n",
       "     ..\n",
       "95    4\n",
       "96    1\n",
       "97    3\n",
       "98    3\n",
       "99    3\n",
       "Length: 100, dtype: int32"
      ]
     },
     "execution_count": 6,
     "metadata": {},
     "output_type": "execute_result"
    }
   ],
   "source": [
    "np.random.seed(101)\n",
    "num_series = pd.Series(np.random.randint(1, 5, 100))\n",
    "num_series"
   ]
  },
  {
   "cell_type": "code",
   "execution_count": 7,
   "metadata": {
    "scrolled": true
   },
   "outputs": [
    {
     "data": {
      "text/plain": [
       "4    36\n",
       "1    30\n",
       "3    18\n",
       "2    16\n",
       "dtype: int64"
      ]
     },
     "execution_count": 7,
     "metadata": {},
     "output_type": "execute_result"
    }
   ],
   "source": [
    "num_series.value_counts()"
   ]
  },
  {
   "cell_type": "code",
   "execution_count": 8,
   "metadata": {},
   "outputs": [
    {
     "name": "stdout",
     "output_type": "stream",
     "text": [
      "Top 2 Freq are 4 with freq 36 and 1 with freq 30\n"
     ]
    }
   ],
   "source": [
    "topfreq = num_series.value_counts()[:2].values\n",
    "topidx = num_series.value_counts()[:2].index\n",
    "print('Top 2 Freq are {} with freq {} and {} with freq {}'. format(topidx[0],topfreq[0],topidx[1],topfreq[1]))"
   ]
  },
  {
   "cell_type": "code",
   "execution_count": 9,
   "metadata": {},
   "outputs": [
    {
     "data": {
      "text/plain": [
       "0          4\n",
       "1          4\n",
       "2     Others\n",
       "3     Others\n",
       "4          4\n",
       "       ...  \n",
       "95         4\n",
       "96    Others\n",
       "97    Others\n",
       "98    Others\n",
       "99    Others\n",
       "Length: 100, dtype: object"
      ]
     },
     "execution_count": 9,
     "metadata": {},
     "output_type": "execute_result"
    }
   ],
   "source": [
    "# yang freq teratas tetap, lainnya jadikan other\n",
    "for i in num_series.index:\n",
    "    if num_series[i] != 4 :\n",
    "        num_series[i] = 'Others'\n",
    "num_series"
   ]
  }
 ],
 "metadata": {
  "kernelspec": {
   "display_name": "Python 3",
   "language": "python",
   "name": "python3"
  },
  "language_info": {
   "codemirror_mode": {
    "name": "ipython",
    "version": 3
   },
   "file_extension": ".py",
   "mimetype": "text/x-python",
   "name": "python",
   "nbconvert_exporter": "python",
   "pygments_lexer": "ipython3",
   "version": "3.7.4"
  }
 },
 "nbformat": 4,
 "nbformat_minor": 2
}
